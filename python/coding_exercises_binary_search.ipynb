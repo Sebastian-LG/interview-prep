{
 "cells": [
  {
   "cell_type": "markdown",
   "id": "aa29e071",
   "metadata": {},
   "source": [
    "# 1351. Count Negative Numbers in a Sorted Matrix\n",
    "\n",
    "https://leetcode.com/problems/count-negative-numbers-in-a-sorted-matrix/\n",
    "\n",
    "Given an `m x n` matrix `grid` which is sorted in **non-increasing order** both row-wise and column-wise, return the **number of negative numbers** in `grid`.\n",
    "\n",
    "### Example 1:\n",
    "\n",
    "```python\n",
    "Input: grid = [[4,3,2,-1],\n",
    "               [3,2,1,-1],\n",
    "               [1,1,-1,-2],\n",
    "               [-1,-1,-2,-3]]\n",
    "Output: 8\n",
    "Explanation: There are 8 negative numbers in the matrix.\n",
    "```\n",
    "\n",
    "### Example 2:\n",
    "\n",
    "```python\n",
    "Input: grid = [[3,2],\n",
    "               [1,0]]\n",
    "Output: 0\n",
    "```\n",
    "\n",
    "### Constraints:\n",
    "\n",
    "* `m == grid.length`\n",
    "* `n == grid[i].length`\n",
    "* `1 <= m, n <= 100`\n",
    "* `-100 <= grid[i][j] <= 100`\n",
    "\n",
    "\n",
    "### Follow up:\n",
    "\n",
    "Could you find an **O(n + m)** solution?\n",
    "\n"
   ]
  },
  {
   "cell_type": "code",
   "execution_count": null,
   "id": "b6e10f0e",
   "metadata": {},
   "outputs": [],
   "source": [
    "def countNegatives(grid):\n",
    "    # Basic solution m*n\n",
    "    conteo = 0\n",
    "    for row in grid:\n",
    "        for element in row:\n",
    "            if element<0:\n",
    "                conteo+=1\n",
    "    return conteo"
   ]
  },
  {
   "cell_type": "code",
   "execution_count": 23,
   "id": "9be88d96",
   "metadata": {},
   "outputs": [],
   "source": [
    "def countNegatives(grid):\n",
    "    # Staircase solution, we start from the bottom left and if it is negative we add what all the indices to the right and go up one level in the \n",
    "    # If the number is positive we look the next column\n",
    "    m = len(grid)\n",
    "    n = len(grid[0])\n",
    "\n",
    "    column = 0\n",
    "    row = m-1\n",
    "    negative = 0\n",
    "\n",
    "    while row>=0 and column<n:\n",
    "        if grid[row][column]<0:\n",
    "            negative += n-column\n",
    "            row-=1\n",
    "        else:\n",
    "            column+=1\n",
    "\n",
    "    return negative"
   ]
  },
  {
   "cell_type": "code",
   "execution_count": null,
   "id": "b7c4aef8",
   "metadata": {},
   "outputs": [],
   "source": [
    "def countNegatives(grid):\n",
    "    # Binary search. For every row find the index of the first non negative by iterating binary search until the end where start = end\n",
    "    m = len(grid)\n",
    "    n = len(grid[0])\n",
    "    negative = 0\n",
    "    for row in grid:\n",
    "        start = 0\n",
    "        end = n-1\n",
    "        while start<=end:\n",
    "            middle = (start+end)//2\n",
    "            if row[middle]<0:\n",
    "                end = middle - 1\n",
    "            else:\n",
    "                start = middle + 1\n",
    "        negative += n-start\n",
    "\n",
    "    return negative"
   ]
  },
  {
   "cell_type": "code",
   "execution_count": 26,
   "id": "acb3a893",
   "metadata": {},
   "outputs": [
    {
     "data": {
      "text/plain": [
       "7"
      ]
     },
     "execution_count": 26,
     "metadata": {},
     "output_type": "execute_result"
    }
   ],
   "source": [
    "countNegatives([[4, 3, 2, 1], [3, 2, 1, -1], [1, 1, -1, -2], [-1, -1, -2, -3]])"
   ]
  },
  {
   "cell_type": "markdown",
   "id": "8df50662",
   "metadata": {},
   "source": [
    "# 744. Find Smallest Letter Greater Than Target\n",
    "\n",
    "https://leetcode.com/problems/find-smallest-letter-greater-than-target/description/\n",
    "\n",
    "You are given an array of characters `letters` that is sorted in **non-decreasing order**, and a character `target`.\n",
    "There are **at least two different characters** in `letters`.\n",
    "\n",
    "Return the **smallest character** in `letters` that is **lexicographically greater** than `target`.\n",
    "If such a character does not exist, return the **first character** in `letters`.\n",
    "\n",
    "\n",
    "### Example 1:\n",
    "\n",
    "```python\n",
    "Input: letters = [\"c\",\"f\",\"j\"], target = \"a\"\n",
    "Output: \"c\"\n",
    "Explanation: The smallest character that is lexicographically greater than 'a' in letters is 'c'.\n",
    "```\n",
    "\n",
    "\n",
    "### Example 2:\n",
    "\n",
    "```python\n",
    "Input: letters = [\"c\",\"f\",\"j\"], target = \"c\"\n",
    "Output: \"f\"\n",
    "Explanation: The smallest character that is lexicographically greater than 'c' in letters is 'f'.\n",
    "```\n",
    "\n",
    "\n",
    "### Example 3:\n",
    "\n",
    "```python\n",
    "Input: letters = [\"x\",\"x\",\"y\",\"y\"], target = \"z\"\n",
    "Output: \"x\"\n",
    "Explanation: There are no characters in letters that is lexicographically greater than 'z' so we return letters[0].\n",
    "```\n",
    "\n",
    "\n",
    "### Constraints:\n",
    "\n",
    "* `2 <= letters.length <= 10^4`\n",
    "* `letters[i]` is a lowercase English letter.\n",
    "* `letters` is sorted in **non-decreasing** order.\n",
    "* `letters` contains at least **two different characters**.\n",
    "* `target` is a lowercase English letter.\n",
    "\n"
   ]
  },
  {
   "cell_type": "code",
   "execution_count": null,
   "id": "e653c756",
   "metadata": {},
   "outputs": [],
   "source": []
  }
 ],
 "metadata": {
  "kernelspec": {
   "display_name": "Devops_venv",
   "language": "python",
   "name": "python3"
  },
  "language_info": {
   "codemirror_mode": {
    "name": "ipython",
    "version": 3
   },
   "file_extension": ".py",
   "mimetype": "text/x-python",
   "name": "python",
   "nbconvert_exporter": "python",
   "pygments_lexer": "ipython3",
   "version": "3.11.9"
  }
 },
 "nbformat": 4,
 "nbformat_minor": 5
}
