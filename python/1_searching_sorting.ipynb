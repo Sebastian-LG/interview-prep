{
 "cells": [
  {
   "cell_type": "markdown",
   "id": "2f5fddfd",
   "metadata": {},
   "source": [
    "# Arrays\n",
    "\n",
    "- Collection of elements stored in contigous memory location.\n",
    "\n",
    "Array | List\n",
    "----|---\n",
    "Same Type | Different Type\n",
    "Fixed size | Dynamic (can grow and shrink)\n",
    "More memory efficient | Slower for larger dataset\n",
    "Use array/numpy | Built in"
   ]
  },
  {
   "cell_type": "code",
   "execution_count": null,
   "id": "b1626d4c",
   "metadata": {},
   "outputs": [
    {
     "name": "stdout",
     "output_type": "stream",
     "text": [
      "array('i', [1, 2, 3, 4, 5])\n",
      "array('i', [10, 2, 3, 4, 5])\n"
     ]
    }
   ],
   "source": [
    "import array\n",
    "arr = array.array('i',[1,2,3,4,5]) # i is signed integer, f is float etc\n",
    "print(arr)\n",
    "arr[0] = 10\n",
    "print(arr)"
   ]
  },
  {
   "cell_type": "markdown",
   "id": "14bce086",
   "metadata": {},
   "source": [
    "# Searching and sorting"
   ]
  },
  {
   "cell_type": "markdown",
   "id": "00c8461b",
   "metadata": {},
   "source": [
    "## Linear search\n",
    "Given a list of elements (array) and a target, I have to return the index of the element, if it is not there, return -1. <br>\n",
    "<b>Steps:</b> <br>\n",
    "Write a loop and travel the array."
   ]
  },
  {
   "cell_type": "code",
   "execution_count": 4,
   "id": "22024575",
   "metadata": {},
   "outputs": [],
   "source": [
    "def linear_search(arr,target):\n",
    "    size = len(arr)\n",
    "    for index in range(0,size):\n",
    "        if arr[index] == target:\n",
    "            return index\n",
    "    return -1"
   ]
  },
  {
   "cell_type": "code",
   "execution_count": 7,
   "id": "bb22df0b",
   "metadata": {},
   "outputs": [
    {
     "name": "stdout",
     "output_type": "stream",
     "text": [
      "3\n",
      "-1\n"
     ]
    }
   ],
   "source": [
    "my_list = [10,23,45,70,11]\n",
    "target = 70\n",
    "result = linear_search(my_list,target)\n",
    "print(result)\n",
    "target = 700\n",
    "result = linear_search(my_list,target)\n",
    "print(result)"
   ]
  },
  {
   "cell_type": "markdown",
   "id": "977b97b2",
   "metadata": {},
   "source": [
    "## Binary Search\n",
    "Given a list of SORTED elements (array) and a target, I have to return the index of the element, if it is not there, return -1. <br>\n",
    "<b>Steps:</b> <br>\n",
    "- Check the middle element: middle = (end-start)//2\n",
    "- Compare element at the middle with target\n",
    "- If target is more than the middle we know the element must be in the upper half else it will be in the lower half\n",
    "- Move the start middle +1 (or end to middle -1)\n",
    "- Calculate the new middle\n",
    "- Compare target to middle and repeat until we find the target, or start = end = middle"
   ]
  },
  {
   "cell_type": "code",
   "execution_count": 12,
   "id": "f8aaab9a",
   "metadata": {},
   "outputs": [],
   "source": [
    "def binary_search(arr,target):\n",
    "    size = len(arr)\n",
    "    start = 0\n",
    "    end = size -1\n",
    "    while start<=end:\n",
    "\n",
    "        middle = (end + start)//2\n",
    "        if arr[middle] == target:\n",
    "            return middle # found the target\n",
    "        elif arr[middle] > target:\n",
    "            end = middle -1\n",
    "        elif arr[middle] < target:\n",
    "            start = middle +1\n",
    "    return -1"
   ]
  },
  {
   "cell_type": "code",
   "execution_count": 15,
   "id": "aaf0d9ae",
   "metadata": {},
   "outputs": [
    {
     "name": "stdout",
     "output_type": "stream",
     "text": [
      "4\n",
      "-1\n"
     ]
    }
   ],
   "source": [
    "sorted_list = [10,23,35,45,50,70,85]\n",
    "target = 50\n",
    "result = binary_search(sorted_list,target)\n",
    "print(result)\n",
    "target = 100\n",
    "result = binary_search(sorted_list,target)\n",
    "print(result)"
   ]
  },
  {
   "cell_type": "markdown",
   "id": "f91ca4f5",
   "metadata": {},
   "source": [
    "## Bubble Sort\n",
    "Given some elements, sort them. <br>\n",
    "<b>Steps:</b><br>\n",
    "- Make a bubble comparing 2 elements at a time and go through the array.\n",
    "- In first pass, the largest element will be at the end in the right position.\n",
    "- In second pass, the second largest element will be in the right position\n",
    "- After n-1 passes, the array will be completely sorted.\n"
   ]
  },
  {
   "cell_type": "code",
   "execution_count": null,
   "id": "5d144e0a",
   "metadata": {},
   "outputs": [],
   "source": [
    "def bubble_sort(arr):\n",
    "    n = len(arr)\n",
    "\n",
    "    for passes in range(n-1):\n",
    "        # In pass 1 we do n-1 comparisons, in pass 2 we don't need to compare the last element so n-2 comparisons\n",
    "        for i in range(0,n-1-passes):\n",
    "            if arr[i]>arr[i+1]:\n",
    "                arr[i+1],arr[i] = arr[i],arr[i+1]\n",
    "    return arr\n",
    "        "
   ]
  },
  {
   "cell_type": "code",
   "execution_count": 4,
   "id": "3ec22d4b",
   "metadata": {},
   "outputs": [
    {
     "name": "stdout",
     "output_type": "stream",
     "text": [
      "Sorted elements:  [11, 12, 22, 25, 34, 90]\n"
     ]
    }
   ],
   "source": [
    "unsorted_list = [12,25,11,34,90,22]\n",
    "sorted_list = bubble_sort(unsorted_list)\n",
    "print(\"Sorted elements: \", sorted_list)"
   ]
  },
  {
   "cell_type": "markdown",
   "id": "04f92d9e",
   "metadata": {},
   "source": [
    "## Selection Sort\n",
    "Given some elements, sort them. <br>\n",
    "<b>Steps:</b> <br>\n",
    "- Find minimum element and swap first element with the minimum\n",
    "- Travel the array starting from the second position and find the minimum and swap it with the element in the second position.\n",
    "- After n-1 passes, the array will be completely sorted.\n",
    "\n"
   ]
  },
  {
   "cell_type": "code",
   "execution_count": 10,
   "id": "9da8142f",
   "metadata": {},
   "outputs": [],
   "source": [
    "def selection_sort(arr):\n",
    "    n = len(arr)\n",
    "\n",
    "    for passes in range(n-1):\n",
    "        # In pass 1 we do n-1 comparisons, in pass 2 we don't need to compare the last element so n-2 comparisons\n",
    "        index_minimum = passes\n",
    "        for i in range(passes,n):\n",
    "            if arr[i]<arr[index_minimum]:\n",
    "                index_minimum = i\n",
    "        arr[passes],arr[index_minimum] = arr[index_minimum],arr[passes]\n",
    "    return arr\n",
    "        "
   ]
  },
  {
   "cell_type": "code",
   "execution_count": 11,
   "id": "76b940e7",
   "metadata": {},
   "outputs": [
    {
     "name": "stdout",
     "output_type": "stream",
     "text": [
      "Sorted elements:  [11, 12, 22, 25, 34, 90]\n"
     ]
    }
   ],
   "source": [
    "unsorted_list = [12,25,11,34,90,22]\n",
    "sorted_list = selection_sort(unsorted_list)\n",
    "print(\"Sorted elements: \", sorted_list)"
   ]
  },
  {
   "cell_type": "markdown",
   "id": "fbf425cc",
   "metadata": {},
   "source": [
    "## Insertion Sort\n",
    "Given some elements, sort them. <br>\n",
    "<b>Steps:</b> <br>\n",
    "- First pass, element stays there\n",
    "- Second pass, we compare second element to first element and insert it to the left if it is less\n",
    "- Third pass, we compare third element to the second and then to the first and insert in the right place.\n",
    "- Continue until the end of the array, we have 2 parts in each iteration: sorted array + new_element"
   ]
  },
  {
   "cell_type": "code",
   "execution_count": null,
   "id": "6a7ed60d",
   "metadata": {},
   "outputs": [],
   "source": [
    "def insertion_sort(arr):\n",
    "    n = len(arr)\n",
    "    if n>0:\n",
    "        sorted_list = [arr[0]]\n",
    "    else:\n",
    "        sorted_list = []\n",
    "    \n",
    "    for i in range(1,n):\n",
    "        for j in range(len(sorted_list) - 1, -1, -1):\n",
    "            if (arr[i]>sorted_list[j]):\n",
    "                sorted_list.insert(j+1,arr[i])\n",
    "                break\n",
    "            if j==0:\n",
    "                sorted_list.insert(j,arr[i])\n",
    "\n",
    "    return sorted_list"
   ]
  },
  {
   "cell_type": "code",
   "execution_count": 75,
   "id": "ac4b8ed3",
   "metadata": {},
   "outputs": [],
   "source": [
    "def insertion_sort(arr):\n",
    "    n = len(arr)\n",
    "    \n",
    "    for current in range(1,n):\n",
    "        currentCard = arr[current]\n",
    "        correctPosition = current-1 # It will go from i-1 to 0. Assumme it is i-1 first\n",
    "        \n",
    "        while correctPosition>=0:\n",
    "            if arr[correctPosition]<currentCard:\n",
    "                break\n",
    "            else:\n",
    "                arr[correctPosition+1] = arr[correctPosition] # Move card to the right (open space for new card, current Card value is stored)\n",
    "                correctPosition-=1\n",
    "            arr[correctPosition+1] = currentCard\n",
    "\n",
    "    return arr"
   ]
  },
  {
   "cell_type": "code",
   "execution_count": 76,
   "id": "91834401",
   "metadata": {},
   "outputs": [
    {
     "name": "stdout",
     "output_type": "stream",
     "text": [
      "Sorted elements:  [26, 31, 41, 41, 58, 59]\n"
     ]
    }
   ],
   "source": [
    "unsorted_list = [31, 41, 59, 26, 41, 58] #[12,25,11,34,90,22]\n",
    "sorted_list = insertion_sort(unsorted_list)\n",
    "print(\"Sorted elements: \", sorted_list)"
   ]
  }
 ],
 "metadata": {
  "kernelspec": {
   "display_name": "Devops_venv",
   "language": "python",
   "name": "python3"
  },
  "language_info": {
   "codemirror_mode": {
    "name": "ipython",
    "version": 3
   },
   "file_extension": ".py",
   "mimetype": "text/x-python",
   "name": "python",
   "nbconvert_exporter": "python",
   "pygments_lexer": "ipython3",
   "version": "3.11.9"
  }
 },
 "nbformat": 4,
 "nbformat_minor": 5
}
