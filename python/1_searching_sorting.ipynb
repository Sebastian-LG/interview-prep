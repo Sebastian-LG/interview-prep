{
 "cells": [
  {
   "cell_type": "markdown",
   "id": "2f5fddfd",
   "metadata": {},
   "source": [
    "# Arrays\n",
    "\n",
    "- Collection of elements stored in contigous memory location.\n",
    "\n",
    "Array | List\n",
    "----|---\n",
    "Same Type | Different Type\n",
    "Fixed size | Dynamic (can grow and shrink)\n",
    "More memory efficient | Slower for larger dataset\n",
    "Use array/numpy | Built in"
   ]
  },
  {
   "cell_type": "code",
   "execution_count": null,
   "id": "b1626d4c",
   "metadata": {},
   "outputs": [
    {
     "name": "stdout",
     "output_type": "stream",
     "text": [
      "array('i', [1, 2, 3, 4, 5])\n",
      "array('i', [10, 2, 3, 4, 5])\n"
     ]
    }
   ],
   "source": [
    "import array\n",
    "arr = array.array('i',[1,2,3,4,5]) # i is signed integer, f is float etc\n",
    "print(arr)\n",
    "arr[0] = 10\n",
    "print(arr)"
   ]
  },
  {
   "cell_type": "markdown",
   "id": "14bce086",
   "metadata": {},
   "source": [
    "# Searching and sorting"
   ]
  },
  {
   "cell_type": "markdown",
   "id": "00c8461b",
   "metadata": {},
   "source": [
    "## Linear search\n",
    "Given a list of elements (array) and a target, I have to return the index of the element, if it is not there, return -1. <br>\n",
    "<b>Steps:</b> <br>\n",
    "Write a loop and travel the array."
   ]
  },
  {
   "cell_type": "code",
   "execution_count": 4,
   "id": "22024575",
   "metadata": {},
   "outputs": [],
   "source": [
    "def linear_search(arr,target):\n",
    "    size = len(arr)\n",
    "    for index in range(0,size):\n",
    "        if arr[index] == target:\n",
    "            return index\n",
    "    return -1"
   ]
  },
  {
   "cell_type": "code",
   "execution_count": 7,
   "id": "bb22df0b",
   "metadata": {},
   "outputs": [
    {
     "name": "stdout",
     "output_type": "stream",
     "text": [
      "3\n",
      "-1\n"
     ]
    }
   ],
   "source": [
    "my_list = [10,23,45,70,11]\n",
    "target = 70\n",
    "result = linear_search(my_list,target)\n",
    "print(result)\n",
    "target = 700\n",
    "result = linear_search(my_list,target)\n",
    "print(result)"
   ]
  },
  {
   "cell_type": "markdown",
   "id": "977b97b2",
   "metadata": {},
   "source": [
    "## Binary Search\n",
    "Given a list of SORTED elements (array) and a target, I have to return the index of the element, if it is not there, return -1. <br>\n",
    "<b>Steps:</b> <br>\n",
    "- Check the middle element: middle = (end-start)//2\n",
    "- Compare element at the middle with target\n",
    "- If target is more than the middle we know the element must be in the upper half else it will be in the lower half\n",
    "- Move the start middle +1 (or end to middle -1)\n",
    "- Calculate the new middle\n",
    "- Compare target to middle and repeat until we find the target, or start = end = middle"
   ]
  },
  {
   "cell_type": "code",
   "execution_count": 12,
   "id": "f8aaab9a",
   "metadata": {},
   "outputs": [],
   "source": [
    "def binary_search(arr,target):\n",
    "    size = len(arr)\n",
    "    start = 0\n",
    "    end = size -1\n",
    "    while start<=end:\n",
    "\n",
    "        middle = (end + start)//2\n",
    "        if arr[middle] == target:\n",
    "            return middle # found the target\n",
    "        elif arr[middle] > target:\n",
    "            end = middle -1\n",
    "        elif arr[middle] < target:\n",
    "            start = middle +1\n",
    "    return -1"
   ]
  },
  {
   "cell_type": "code",
   "execution_count": 15,
   "id": "aaf0d9ae",
   "metadata": {},
   "outputs": [
    {
     "name": "stdout",
     "output_type": "stream",
     "text": [
      "4\n",
      "-1\n"
     ]
    }
   ],
   "source": [
    "sorted_list = [10,23,35,45,50,70,85]\n",
    "target = 50\n",
    "result = binary_search(sorted_list,target)\n",
    "print(result)\n",
    "target = 100\n",
    "result = binary_search(sorted_list,target)\n",
    "print(result)"
   ]
  },
  {
   "cell_type": "markdown",
   "id": "f91ca4f5",
   "metadata": {},
   "source": [
    "## Bubble Sort\n",
    "Given some elements, sort them. <br>\n",
    "<b>Steps:</b>: <br>\n",
    "- Make a bubble comparing 2 elements at a time and go through the array.\n",
    "- In first pass, the largest element will be at the end in the right position.\n",
    "- In second pass, the second largest element will be in the right position\n",
    "- After n-1 passes, the array will be completely sorted.\n"
   ]
  },
  {
   "cell_type": "code",
   "execution_count": null,
   "id": "5d144e0a",
   "metadata": {},
   "outputs": [],
   "source": []
  }
 ],
 "metadata": {
  "kernelspec": {
   "display_name": "Devops_venv",
   "language": "python",
   "name": "python3"
  },
  "language_info": {
   "codemirror_mode": {
    "name": "ipython",
    "version": 3
   },
   "file_extension": ".py",
   "mimetype": "text/x-python",
   "name": "python",
   "nbconvert_exporter": "python",
   "pygments_lexer": "ipython3",
   "version": "3.11.9"
  }
 },
 "nbformat": 4,
 "nbformat_minor": 5
}
