{
 "cells": [
  {
   "cell_type": "markdown",
   "id": "2f5fddfd",
   "metadata": {},
   "source": [
    "# Arrays\n",
    "\n",
    "- Collection of elements stored in contigous memory location.\n",
    "- All elements are of the same data type\n",
    "- List in python is an extended version of an array as it supports multiple data types\n",
    "- DISADVANTAGE: Fixed size\n"
   ]
  },
  {
   "cell_type": "code",
   "execution_count": null,
   "id": "b1626d4c",
   "metadata": {},
   "outputs": [],
   "source": []
  }
 ],
 "metadata": {
  "language_info": {
   "name": "python"
  }
 },
 "nbformat": 4,
 "nbformat_minor": 5
}
