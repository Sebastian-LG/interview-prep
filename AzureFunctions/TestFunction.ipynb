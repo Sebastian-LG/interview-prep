{
 "cells": [
  {
   "cell_type": "code",
   "execution_count": 4,
   "id": "858df1f9",
   "metadata": {},
   "outputs": [
    {
     "name": "stdout",
     "output_type": "stream",
     "text": [
      "Status: 200\n",
      "Response: ✅ Triggered Databricks Job: {\"run_id\":939174504644966,\"number_in_job\":939174504644966}\n"
     ]
    }
   ],
   "source": [
    "import requests\n",
    "\n",
    "url = \"http://localhost:7071/api/databricks_trigger\"\n",
    "\n",
    "# Example JSON payload\n",
    "payload = {\n",
    "    \"datos_formulario\":{\n",
    "    \"fecha_inicial_declaraciones\": \"2025-09-17T00:00\",\n",
    "    \"fecha_final_declaraciones\": \"2025-09-17T23:59\",\n",
    "    \"numero_inspectores_disponibles\": 6,\n",
    "    \"numero_inspectores_zona_franca\": 7,\n",
    "    \"codigo_direccion_seccional\": \"3\"\n",
    "    }\n",
    "}\n",
    "\n",
    "response = requests.post(url, json=payload)\n",
    "\n",
    "print(\"Status:\", response.status_code)\n",
    "print(\"Response:\", response.text)"
   ]
  },
  {
   "cell_type": "code",
   "execution_count": 11,
   "id": "3a0e3ea8",
   "metadata": {},
   "outputs": [
    {
     "name": "stdout",
     "output_type": "stream",
     "text": [
      "Status: 200\n",
      "Response: ✅ Triggered Databricks Job: {\"run_id\":1084781546849846,\"number_in_job\":1084781546849846}\n"
     ]
    }
   ],
   "source": [
    "import requests\n",
    "import json\n",
    "\n",
    "url = \"http://localhost:7071/api/databricks_trigger\"\n",
    "\n",
    "# JSON part\n",
    "datos_formulario = {\n",
    "    \"fecha_inicial_declaraciones\": \"2025-09-17T00:00\",\n",
    "    \"fecha_final_declaraciones\": \"2025-09-17T23:59\",\n",
    "    \"numero_inspectores_disponibles\": 6,\n",
    "    \"numero_inspectores_zona_franca\": 7,\n",
    "    \"codigo_direccion_seccional\": \"3\"\n",
    "}\n",
    "\n",
    "# File part\n",
    "files = {\n",
    "    \"input_file\": open(r\"C:\\Users\\Sebastian Leon\\Downloads\\inspectores_stress_test_ADM_DATOSV2.csv\", \"rb\")\n",
    "}\n",
    "\n",
    "# Form fields\n",
    "data = {\n",
    "    \"datos_formulario\": json.dumps(datos_formulario)\n",
    "}\n",
    "\n",
    "response = requests.post(url, data=data, files=files)\n",
    "\n",
    "print(\"Status:\", response.status_code)\n",
    "print(\"Response:\", response.text)"
   ]
  }
 ],
 "metadata": {
  "kernelspec": {
   "display_name": "Devops_venv",
   "language": "python",
   "name": "python3"
  },
  "language_info": {
   "codemirror_mode": {
    "name": "ipython",
    "version": 3
   },
   "file_extension": ".py",
   "mimetype": "text/x-python",
   "name": "python",
   "nbconvert_exporter": "python",
   "pygments_lexer": "ipython3",
   "version": "3.11.9"
  }
 },
 "nbformat": 4,
 "nbformat_minor": 5
}
