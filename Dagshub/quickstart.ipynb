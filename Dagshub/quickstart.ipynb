{
 "cells": [
  {
   "cell_type": "markdown",
   "id": "a3400b66",
   "metadata": {},
   "source": [
    "# Dagshub\n",
    "\n",
    "It can be connected to github, but it has 3 main features:\n",
    "\n",
    "* Upload data to dagshub (track data with DVC, upload with a cloud provider)\n",
    "* Track your code\n",
    "* Log experiments (MLFlow)\n",
    "\n",
    "You need to generatee a Token in dagshub to push to the repository\n",
    "\n",
    "Once data is added, DVC is init and everything commit we need to configure the remote dagshub\n",
    "\n",
    "You can check if everything is setup using dvc remote list\n",
    "\n",
    "You use dvc push -r origin and git push origin main, then you get the DVC option enabled in dagshub\n",
    "\n"
   ]
  }
 ],
 "metadata": {
  "language_info": {
   "name": "python"
  }
 },
 "nbformat": 4,
 "nbformat_minor": 5
}
