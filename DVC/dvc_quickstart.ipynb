{
 "cells": [
  {
   "cell_type": "markdown",
   "id": "1e93c498",
   "metadata": {},
   "source": [
    "# DVC Use cases\n",
    "\n",
    "If you store and process data files or datasets to produce other data or machine learning models, and you want to\n",
    "\n",
    "- track and save data and machine learning models the same way you capture code;\n",
    "- create and switch between versions of data and ML models easily;\n",
    "- understand how datasets and ML artifacts were built in the first place;\n",
    "- compare model metrics among experiments;\n",
    "- adopt engineering tools and best practices in data science projects;\n",
    "\n",
    "\n",
    "Before doing dvc init --subdir you need to do: git init <br>\n",
    "the .gitignore should contain the files that don't want to track in git"
   ]
  }
 ],
 "metadata": {
  "language_info": {
   "name": "python"
  }
 },
 "nbformat": 4,
 "nbformat_minor": 5
}
